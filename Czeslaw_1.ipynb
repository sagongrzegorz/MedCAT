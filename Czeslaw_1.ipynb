{
  "nbformat": 4,
  "nbformat_minor": 0,
  "metadata": {
    "colab": {
      "name": "Czeslaw_1.ipynb",
      "provenance": [],
      "collapsed_sections": [],
      "mount_file_id": "1w83MyVQUqyVBguvSAdIBBtJGxT8ZxBEk",
      "authorship_tag": "ABX9TyNv+kFYxHfL8u0kIwfC8oaB",
      "include_colab_link": true
    },
    "kernelspec": {
      "name": "python3",
      "display_name": "Python 3"
    }
  },
  "cells": [
    {
      "cell_type": "markdown",
      "metadata": {
        "id": "view-in-github",
        "colab_type": "text"
      },
      "source": [
        "<a href=\"https://colab.research.google.com/github/sagongrzegorz/MedCAT/blob/master/Czeslaw_1.ipynb\" target=\"_parent\"><img src=\"https://colab.research.google.com/assets/colab-badge.svg\" alt=\"Open In Colab\"/></a>"
      ]
    },
    {
      "cell_type": "code",
      "metadata": {
        "colab": {
          "base_uri": "https://localhost:8080/",
          "height": 1000
        },
        "id": "8o0QPDxe2P27",
        "outputId": "868dd3fa-8bd9-4c34-d473-ace09c16847d"
      },
      "source": [
        "pip install textract"
      ],
      "execution_count": 2,
      "outputs": [
        {
          "output_type": "stream",
          "text": [
            "Collecting textract\n",
            "  Downloading https://files.pythonhosted.org/packages/32/31/ef9451e6e48a1a57e337c5f20d4ef58c1a13d91560d2574c738b1320bb8d/textract-1.6.3-py3-none-any.whl\n",
            "Collecting SpeechRecognition==3.8.1\n",
            "\u001b[?25l  Downloading https://files.pythonhosted.org/packages/26/e1/7f5678cd94ec1234269d23756dbdaa4c8cfaed973412f88ae8adf7893a50/SpeechRecognition-3.8.1-py2.py3-none-any.whl (32.8MB)\n",
            "\u001b[K     |████████████████████████████████| 32.8MB 125kB/s \n",
            "\u001b[?25hRequirement already satisfied: chardet==3.0.4 in /usr/local/lib/python3.7/dist-packages (from textract) (3.0.4)\n",
            "Collecting extract-msg==0.23.1\n",
            "\u001b[?25l  Downloading https://files.pythonhosted.org/packages/a1/90/84485a914ed90adb5e87df17e626be04162fbba146dfecf34643659a4633/extract_msg-0.23.1-py2.py3-none-any.whl (45kB)\n",
            "\u001b[K     |████████████████████████████████| 51kB 5.3MB/s \n",
            "\u001b[?25hCollecting docx2txt==0.8\n",
            "  Downloading https://files.pythonhosted.org/packages/7d/7d/60ee3f2b16d9bfdfa72e8599470a2c1a5b759cb113c6fe1006be28359327/docx2txt-0.8.tar.gz\n",
            "Collecting six==1.12.0\n",
            "  Downloading https://files.pythonhosted.org/packages/73/fb/00a976f728d0d1fecfe898238ce23f502a721c0ac0ecfedb80e0d88c64e9/six-1.12.0-py2.py3-none-any.whl\n",
            "Collecting python-pptx==0.6.18\n",
            "\u001b[?25l  Downloading https://files.pythonhosted.org/packages/bf/86/eb979f7b0333ec769041aae36df8b9f1bd8bea5bbad44620663890dce561/python-pptx-0.6.18.tar.gz (8.9MB)\n",
            "\u001b[K     |████████████████████████████████| 8.9MB 39.6MB/s \n",
            "\u001b[?25hCollecting pdfminer.six==20181108\n",
            "\u001b[?25l  Downloading https://files.pythonhosted.org/packages/8a/fd/6e8746e6965d1a7ea8e97253e3d79e625da5547e8f376f88de5d024bacb9/pdfminer.six-20181108-py2.py3-none-any.whl (5.6MB)\n",
            "\u001b[K     |████████████████████████████████| 5.6MB 38.9MB/s \n",
            "\u001b[?25hCollecting beautifulsoup4==4.8.0\n",
            "\u001b[?25l  Downloading https://files.pythonhosted.org/packages/1a/b7/34eec2fe5a49718944e215fde81288eec1fa04638aa3fb57c1c6cd0f98c3/beautifulsoup4-4.8.0-py3-none-any.whl (97kB)\n",
            "\u001b[K     |████████████████████████████████| 102kB 8.1MB/s \n",
            "\u001b[?25hCollecting argcomplete==1.10.0\n",
            "  Downloading https://files.pythonhosted.org/packages/4d/82/f44c9661e479207348a979b1f6f063625d11dc4ca6256af053719bbb0124/argcomplete-1.10.0-py2.py3-none-any.whl\n",
            "Collecting xlrd==1.2.0\n",
            "\u001b[?25l  Downloading https://files.pythonhosted.org/packages/b0/16/63576a1a001752e34bf8ea62e367997530dc553b689356b9879339cf45a4/xlrd-1.2.0-py2.py3-none-any.whl (103kB)\n",
            "\u001b[K     |████████████████████████████████| 112kB 54.9MB/s \n",
            "\u001b[?25hCollecting EbookLib==0.17.1\n",
            "\u001b[?25l  Downloading https://files.pythonhosted.org/packages/00/38/7d6ab2e569a9165249619d73b7bc6be0e713a899a3bc2513814b6598a84c/EbookLib-0.17.1.tar.gz (111kB)\n",
            "\u001b[K     |████████████████████████████████| 112kB 52.1MB/s \n",
            "\u001b[?25hCollecting imapclient==2.1.0\n",
            "\u001b[?25l  Downloading https://files.pythonhosted.org/packages/dc/39/e1c2c2c6e2356ab6ea81fcfc0a74b044b311d6a91a45300811d9a6077ef7/IMAPClient-2.1.0-py2.py3-none-any.whl (73kB)\n",
            "\u001b[K     |████████████████████████████████| 81kB 6.6MB/s \n",
            "\u001b[?25hRequirement already satisfied: tzlocal==1.5.1 in /usr/local/lib/python3.7/dist-packages (from extract-msg==0.23.1->textract) (1.5.1)\n",
            "Collecting olefile==0.46\n",
            "\u001b[?25l  Downloading https://files.pythonhosted.org/packages/34/81/e1ac43c6b45b4c5f8d9352396a14144bba52c8fec72a80f425f6a4d653ad/olefile-0.46.zip (112kB)\n",
            "\u001b[K     |████████████████████████████████| 112kB 54.6MB/s \n",
            "\u001b[?25hRequirement already satisfied: lxml>=3.1.0 in /usr/local/lib/python3.7/dist-packages (from python-pptx==0.6.18->textract) (4.2.6)\n",
            "Requirement already satisfied: Pillow>=3.3.2 in /usr/local/lib/python3.7/dist-packages (from python-pptx==0.6.18->textract) (7.0.0)\n",
            "Collecting XlsxWriter>=0.5.7\n",
            "\u001b[?25l  Downloading https://files.pythonhosted.org/packages/6b/41/bf1aae04932d1eaffee1fc5f8b38ca47bbbf07d765129539bc4bcce1ce0c/XlsxWriter-1.3.7-py2.py3-none-any.whl (144kB)\n",
            "\u001b[K     |████████████████████████████████| 153kB 49.4MB/s \n",
            "\u001b[?25hRequirement already satisfied: sortedcontainers in /usr/local/lib/python3.7/dist-packages (from pdfminer.six==20181108->textract) (2.3.0)\n",
            "Collecting pycryptodome\n",
            "\u001b[?25l  Downloading https://files.pythonhosted.org/packages/ad/16/9627ab0493894a11c68e46000dbcc82f578c8ff06bc2980dcd016aea9bd3/pycryptodome-3.10.1-cp35-abi3-manylinux2010_x86_64.whl (1.9MB)\n",
            "\u001b[K     |████████████████████████████████| 1.9MB 24.1MB/s \n",
            "\u001b[?25hCollecting soupsieve>=1.2\n",
            "  Downloading https://files.pythonhosted.org/packages/41/e7/3617a4b988ed7744743fb0dbba5aa0a6e3f95a9557b43f8c4740d296b48a/soupsieve-2.2-py3-none-any.whl\n",
            "Requirement already satisfied: pytz in /usr/local/lib/python3.7/dist-packages (from tzlocal==1.5.1->extract-msg==0.23.1->textract) (2018.9)\n",
            "Building wheels for collected packages: docx2txt, python-pptx, EbookLib, olefile\n",
            "  Building wheel for docx2txt (setup.py) ... \u001b[?25l\u001b[?25hdone\n",
            "  Created wheel for docx2txt: filename=docx2txt-0.8-cp37-none-any.whl size=3963 sha256=ed04bb9dc6e8d5ae9576ed14b4db4ecee007d8d2c548e3c6ffa68f5272d314f6\n",
            "  Stored in directory: /root/.cache/pip/wheels/b2/1f/26/a051209bbb77fc6bcfae2bb7e01fa0ff941b82292ab084d596\n",
            "  Building wheel for python-pptx (setup.py) ... \u001b[?25l\u001b[?25hdone\n",
            "  Created wheel for python-pptx: filename=python_pptx-0.6.18-cp37-none-any.whl size=275704 sha256=45e48592bb31fd9991bd377021e0b92c7a4693f7675d00294ebee215e8bc1e10\n",
            "  Stored in directory: /root/.cache/pip/wheels/1f/1f/2c/29acca422b420a0b5210bd2cd7e9669804520d602d2462f20b\n",
            "  Building wheel for EbookLib (setup.py) ... \u001b[?25l\u001b[?25hdone\n",
            "  Created wheel for EbookLib: filename=EbookLib-0.17.1-cp37-none-any.whl size=38165 sha256=e1bc55cc5a8edb6d0f6cbd44fb8cff097cbd744a6290e9f47255cf8dd971e3cc\n",
            "  Stored in directory: /root/.cache/pip/wheels/84/11/01/951369cbbf8f96878786a1f4da68bd7ac19a5d945b38e03d54\n",
            "  Building wheel for olefile (setup.py) ... \u001b[?25l\u001b[?25hdone\n",
            "  Created wheel for olefile: filename=olefile-0.46-py2.py3-none-any.whl size=35416 sha256=afa177717aac56231afed34098d4242f073f07b77f68146096fe74cc2c916d13\n",
            "  Stored in directory: /root/.cache/pip/wheels/4b/f4/11/bc4166107c27f07fd7bba707ffcb439619197638a1ac986df3\n",
            "Successfully built docx2txt python-pptx EbookLib olefile\n",
            "\u001b[31mERROR: tensorflow 2.4.1 has requirement six~=1.15.0, but you'll have six 1.12.0 which is incompatible.\u001b[0m\n",
            "\u001b[31mERROR: nbclient 0.5.2 has requirement jupyter-client>=6.1.5, but you'll have jupyter-client 5.3.5 which is incompatible.\u001b[0m\n",
            "\u001b[31mERROR: google-colab 1.0.0 has requirement six~=1.15.0, but you'll have six 1.12.0 which is incompatible.\u001b[0m\n",
            "\u001b[31mERROR: datascience 0.10.6 has requirement folium==0.2.1, but you'll have folium 0.8.3 which is incompatible.\u001b[0m\n",
            "\u001b[31mERROR: albumentations 0.1.12 has requirement imgaug<0.2.7,>=0.2.5, but you'll have imgaug 0.2.9 which is incompatible.\u001b[0m\n",
            "Installing collected packages: SpeechRecognition, six, imapclient, olefile, extract-msg, docx2txt, XlsxWriter, python-pptx, pycryptodome, pdfminer.six, soupsieve, beautifulsoup4, argcomplete, xlrd, EbookLib, textract\n",
            "  Found existing installation: six 1.15.0\n",
            "    Uninstalling six-1.15.0:\n",
            "      Successfully uninstalled six-1.15.0\n",
            "  Found existing installation: beautifulsoup4 4.6.3\n",
            "    Uninstalling beautifulsoup4-4.6.3:\n",
            "      Successfully uninstalled beautifulsoup4-4.6.3\n",
            "  Found existing installation: xlrd 1.1.0\n",
            "    Uninstalling xlrd-1.1.0:\n",
            "      Successfully uninstalled xlrd-1.1.0\n",
            "Successfully installed EbookLib-0.17.1 SpeechRecognition-3.8.1 XlsxWriter-1.3.7 argcomplete-1.10.0 beautifulsoup4-4.8.0 docx2txt-0.8 extract-msg-0.23.1 imapclient-2.1.0 olefile-0.46 pdfminer.six-20181108 pycryptodome-3.10.1 python-pptx-0.6.18 six-1.12.0 soupsieve-2.2 textract-1.6.3 xlrd-1.2.0\n"
          ],
          "name": "stdout"
        },
        {
          "output_type": "display_data",
          "data": {
            "application/vnd.colab-display-data+json": {
              "pip_warning": {
                "packages": [
                  "six"
                ]
              }
            }
          },
          "metadata": {
            "tags": []
          }
        }
      ]
    },
    {
      "cell_type": "code",
      "metadata": {
        "id": "PM9zxRisxu3f"
      },
      "source": [
        "import textract"
      ],
      "execution_count": 3,
      "outputs": []
    },
    {
      "cell_type": "code",
      "metadata": {
        "id": "Unzt3HLs2kXE"
      },
      "source": [
        "mypdf = textract.process('c3.pdf')"
      ],
      "execution_count": 13,
      "outputs": []
    },
    {
      "cell_type": "code",
      "metadata": {
        "id": "KYQ8sJFk2kTN"
      },
      "source": [
        "# mypdf = textract.process('c3.pdf', method='pdfminer')"
      ],
      "execution_count": 14,
      "outputs": []
    },
    {
      "cell_type": "code",
      "metadata": {
        "colab": {
          "base_uri": "https://localhost:8080/"
        },
        "id": "GAPHGa402kPM",
        "outputId": "55069617-6c37-454a-d469-91ab1bf543f3"
      },
      "source": [
        "mypdf"
      ],
      "execution_count": 15,
      "outputs": [
        {
          "output_type": "execute_result",
          "data": {
            "text/plain": [
              "b'\\x0c'"
            ]
          },
          "metadata": {
            "tags": []
          },
          "execution_count": 15
        }
      ]
    },
    {
      "cell_type": "code",
      "metadata": {
        "id": "NWx_QmUs2kLL"
      },
      "source": [
        "mypdf = textract.process('c2.pdf')"
      ],
      "execution_count": 11,
      "outputs": []
    },
    {
      "cell_type": "code",
      "metadata": {
        "colab": {
          "base_uri": "https://localhost:8080/"
        },
        "id": "8KFRaa8y2kHd",
        "outputId": "4aed7e11-2cd6-4b62-8ca0-1a68080590ae"
      },
      "source": [
        "mypdf"
      ],
      "execution_count": 12,
      "outputs": [
        {
          "output_type": "execute_result",
          "data": {
            "text/plain": [
              "b'\\x0c'"
            ]
          },
          "metadata": {
            "tags": []
          },
          "execution_count": 12
        }
      ]
    },
    {
      "cell_type": "code",
      "metadata": {
        "id": "mFFMhzhM2kDs"
      },
      "source": [
        "mypdf = textract.process('ADPS.pdf')"
      ],
      "execution_count": 17,
      "outputs": []
    },
    {
      "cell_type": "code",
      "metadata": {
        "colab": {
          "base_uri": "https://localhost:8080/"
        },
        "id": "Oj19SSGs2j_4",
        "outputId": "22436aea-6486-439b-d14f-d428557a9dd1"
      },
      "source": [
        "mypdf"
      ],
      "execution_count": 18,
      "outputs": [
        {
          "output_type": "execute_result",
          "data": {
            "text/plain": [
              "b\"Analiza Danych\\n\\nPodstawy Statystyczne\\n\\n(ADPS)\\n\\nLaboratorium 1\\n\\n\\x0cOrganizacja zaj\\xc4\\x99\\xc4\\x87\\n\\n\\xe2\\x97\\xbc 4 bloki zaj\\xc4\\x99\\xc4\\x87 laboratoryjnych (2 x 1,5h ka\\xc5\\xbcdy).\\n\\n\\xe2\\x97\\xbc Zaj\\xc4\\x99cia podlegaj\\xc4\\x85 ocenie (0-5 pkt).\\n\\n\\xe2\\x97\\xbc Adresy e-mail prowadz\\xc4\\x85cych:\\n\\nkonrad.jedrzejewski@pw.edu.pl\\n\\nM.Rupniewski@elka.pw.edu.pl\\n\\nAnaliza danych \\xe2\\x80\\x93 podstawy statystyczne, 2019Z\\n\\n2\\n\\n\\x0cPakiet R\\n\\n\\xe2\\x97\\xbc R jest pakietem (\\xc5\\x9brodowiskiem) i j\\xc4\\x99zykiem \\n\\nprogramowania przeznaczonym do zaawansowanych \\noblicze\\xc5\\x84 statystycznych.\\n\\n\\xe2\\x97\\xbc Bezp\\xc5\\x82atny.\\n\\n\\xe2\\x97\\xbc Platformy: Windows, Linux, Unix, MacOS.\\n\\n\\xe2\\x97\\xbc J\\xc4\\x99zyk R jest j\\xc4\\x99zykiem interpretowanym, a nie \\n\\nkompilowanym.\\n\\n\\xe2\\x97\\xbc \\xc5\\xb9r\\xc3\\xb3d\\xc5\\x82a: http://www.r-project.org\\n\\n\\xe2\\x97\\xbc Pakiety.\\n\\n\\xe2\\x97\\xbc CRAN (Comprehensive R Archive Network).\\n\\nAnaliza danych \\xe2\\x80\\x93 podstawy statystyczne, 2019Z\\n\\n3\\n\\n\\x0cRStudio\\n\\n\\xe2\\x97\\xbc Zintegrowane \\xc5\\x9brodowisko programistyczne (IDE) do R,  \\n\\nzawieraj\\xc4\\x85ce m.in.\\n\\n\\xe2\\x97\\xbc konsol\\xc4\\x99,\\n\\n\\xe2\\x97\\xbc edytor wspomagaj\\xc4\\x85cy pisanie kodu (syntax-highlighting)\\n\\ni debuggowanie kodu,\\n\\n\\xe2\\x97\\xbc okno podgl\\xc4\\x85du danych i historii,\\n\\n\\xe2\\x97\\xbc okno pomocy, podgl\\xc4\\x85du plik\\xc3\\xb3w, zarz\\xc4\\x85dzania pakietami R, \\n\\nwy\\xc5\\x9bwietlania rysunk\\xc3\\xb3w.\\n\\n\\xe2\\x97\\xbc \\xc5\\xb9r\\xc3\\xb3d\\xc5\\x82a: https://www.rstudio.com\\n\\nAnaliza danych \\xe2\\x80\\x93 podstawy statystyczne, 2019Z\\n\\n4\\n\\n\\x0cRStudio\\n\\nAnaliza danych \\xe2\\x80\\x93 podstawy statystyczne, 2019Z\\n\\n5\\n\\n\\x0c\\xc5\\x9arodowisko\\n\\n\\xe2\\x97\\xbc Pomoc\\n\\n\\xe2\\x97\\xbc ?nazwa_funkcji, help(nazwa_funkcji) - np. ?c, help(c)\\n\\n\\xe2\\x97\\xbc ??fraza, np. ??predict\\n\\n\\xe2\\x97\\xbc example(nazwa_funkcji), np. example(plot)\\n\\n\\xe2\\x97\\xbc zak\\xc5\\x82adka Help w RStudio\\n\\n\\xe2\\x97\\xbc Wywo\\xc5\\x82anie funkcji\\n\\n\\xe2\\x97\\xbc nazwa_funkcji(arg1, arg2, arg3 = warto\\xc5\\x9b\\xc4\\x87)\\n\\n\\xe2\\x97\\xbc Znak komentarza  #\\n\\n\\xe2\\x97\\xbc Przydatne funkcje\\n\\n\\xe2\\x97\\xbc ls(), rm(), rm(list = ls()), print('napis'), print(dane)\\n\\n\\xe2\\x97\\xbc Katalog roboczy\\n\\n\\xe2\\x97\\xbc getwd(), setwd('nazwa_katalogu'), dir()\\n\\nAnaliza danych \\xe2\\x80\\x93 podstawy statystyczne, 2019Z\\n\\n6\\n\\n\\x0cTypy danych\\n\\n\\xe2\\x97\\xbc Numeryczny\\n\\n\\xe2\\x97\\xbc 2.345 \\n\\n\\xe2\\x97\\xbc 3.5e-15\\n\\n\\xe2\\x97\\xbc Znakowy \\n\\n\\xe2\\x97\\xbc \\xe2\\x80\\x99a\\xe2\\x80\\x99, 'abc', \\\\n, \\\\t\\n\\n\\xe2\\x97\\xbc Logiczny\\n\\n\\xe2\\x97\\xbc TRUE\\\\T, FALSE\\\\F\\n\\n\\xe2\\x97\\xbc Zespolony\\n\\n\\xe2\\x97\\xbc x = 2 + 3i\\n\\nMod(x), Arg(x), Re(x), Im(x)\\n\\nAnaliza danych \\xe2\\x80\\x93 podstawy statystyczne, 2019Z\\n\\n7\\n\\n\\x0cStruktury danych\\n\\n\\xe2\\x97\\xbc Wektor (ang. vector)\\n\\n\\xe2\\x97\\xbc Czynnik (ang. factor)\\n\\n\\xe2\\x97\\xbc Ramka (ang. data frame)\\n\\n\\xe2\\x97\\xbc Lista (ang. list)\\n\\n\\xe2\\x97\\xbc Tablica (ang. array)\\n\\nAnaliza danych \\xe2\\x80\\x93 podstawy statystyczne, 2019Z\\n\\n8\\n\\n\\x0cWektor\\n\\n\\xe2\\x97\\xbc Tworzenie \\n\\n\\xe2\\x97\\xbc x = c(1,4,6,-3), x <- c(1,5,6,-3), x = c('bdb', 'db', 'dst', 'bdb')\\n\\n\\xe2\\x97\\xbc x = c(TRUE,FALSE,TRUE, TRUE) ; x = c(T,F,T,T)\\n\\n\\xe2\\x97\\xbc Indeksowanie wektor\\xc3\\xb3w\\n\\n\\xe2\\x97\\xbc y = x[3], y = x[2:4], y = x[c(1,3)]\\n\\n\\xe2\\x97\\xbc Operator :\\n\\n\\xe2\\x97\\xbc x = 1:10, x = 10:1\\n\\n\\xe2\\x97\\xbc seq(), rep()\\n\\n\\xe2\\x97\\xbc x = seq(0, 5, by = 0.25), x = seq(5, 0.5, length = 10)\\n\\n\\xe2\\x97\\xbc x = rep(c(1,2,3), 4), x = rep(c(1,2,3), each = 4)\\n\\n\\xe2\\x97\\xbc Deklarowanie\\n\\n\\xe2\\x97\\xbc x = c(), w = vector('logical', 10)\\n\\nAnaliza danych \\xe2\\x80\\x93 podstawy statystyczne, 2019Z\\n\\n9\\n\\n\\x0cCzynnik\\n\\n\\xe2\\x97\\xbc Czynnik jest struktur\\xc4\\x85 przechowuj\\xc4\\x85c\\xc4\\x85 opr\\xc3\\xb3cz szeregu \\n\\ndanych informacje o powt\\xc3\\xb3rzeniach takich samych \\nwarto\\xc5\\x9bci oraz zbiorze unikalnych warto\\xc5\\x9bci.\\n\\n\\xe2\\x97\\xbc factor()\\n\\n\\xe2\\x97\\xbc faktor1 = factor(c(2,3,4), levels = 1:5)\\n\\n\\xe2\\x97\\xbc oceny = factor(c('bdb', 'dst', 'db', 'dst', 'bdb', 'ndst', 'db'))\\n\\n\\xe2\\x97\\xbc levels()\\n\\n\\xe2\\x97\\xbc levels(oceny)\\n\\n\\xe2\\x97\\xbc table()\\n\\n\\xe2\\x97\\xbc table(oceny)\\n\\nAnaliza danych \\xe2\\x80\\x93 podstawy statystyczne, 2019Z\\n\\n10\\n\\n\\x0cLista\\n\\n\\xe2\\x97\\xbc Lista (list) jest uporz\\xc4\\x85dkowanym zbiorem element\\xc3\\xb3w \\n\\nr\\xc3\\xb3\\xc5\\xbcnego typu.\\n\\n\\xe2\\x97\\xbc Lista = list('Jan', 'Kowalski', 1990, 'Warszawa', 'TRUE')\\n\\n\\xe2\\x97\\xbc Lista = list(imie = 'Jan', nazwisko = 'Kowalski', rok_ur = 1990, \\n\\nzam = 'Warszawa', stud = 'TRUE')\\n\\n\\xe2\\x97\\xbc Wyb\\xc3\\xb3r z listy\\n\\n\\xe2\\x97\\xbc Lista$nazwisko\\n\\n\\xe2\\x97\\xbc Dodawanie\\n\\n\\xe2\\x97\\xbc Lista$imie[2] = 'Jakub'; Lista$nazwisko[2] = 'Nowak'; \\xe2\\x80\\xa6\\n\\n\\xe2\\x97\\xbc Lista2 = list(imie = c('Jan','Piotr'), nazwisko = c('Kowalski',\\n\\n'Nowak'), rok_ur = c(1991,1995), zam = c('Warszawa','Poznan'),\\nstud = c(T,F))\\n\\n\\xe2\\x97\\xbc Lista2$rok_ur[1] \\n\\n\\xe2\\x97\\xbc Lista2[[4]][2]\\n\\nAnaliza danych \\xe2\\x80\\x93 podstawy statystyczne, 2019Z\\n\\n11\\n\\n\\x0cRamka\\n\\n\\xe2\\x97\\xbc Ramka (data frame) jest macierz\\xc4\\x85, w kt\\xc3\\xb3rej \\n\\nposzczeg\\xc3\\xb3lne kolumny mog\\xc4\\x85 zawiera\\xc4\\x87 warto\\xc5\\x9bci \\nr\\xc3\\xb3\\xc5\\xbcnego typu.\\n\\n\\xe2\\x97\\xbc ramka = data.frame(LETTERS[1:6], seq(10, 60, by = 10), \\n\\nseq(10, 60, by = 10) > 35)\\n\\n\\xe2\\x97\\xbc names(ramka) = c('Litera', 'Punkty', 'Punkty > 35')\\n\\n\\xe2\\x97\\xbc Wyb\\xc3\\xb3r z ramki\\n\\n\\xe2\\x97\\xbc ramka[3,]; ramka[,2]\\n\\n\\xe2\\x97\\xbc ramka$Punkty\\n\\n\\xe2\\x97\\xbc ramka$Litera[2]\\n\\n\\xe2\\x97\\xbc ramka$'Punkty > 35'\\n\\nAnaliza danych \\xe2\\x80\\x93 podstawy statystyczne, 2019Z\\n\\n12\\n\\n\\x0cTablica \\n\\n\\xe2\\x97\\xbc Tablica jest wektorem zawieraj\\xc4\\x85cym dodatkowe dane \\n\\nokre\\xc5\\x9blaj\\xc4\\x85ce uporz\\xc4\\x85dkowanie element\\xc3\\xb3w w tablicy.\\n\\n\\xe2\\x97\\xbc Tworzenie tablic\\n\\n\\xe2\\x97\\xbc x = 1:20; dim(x) = c(4,5)\\n\\n\\xe2\\x97\\xbc x = matrix(1:20, 4, 5)\\n\\n\\xe2\\x97\\xbc x = array(1:20, c(4,5))\\n\\n\\xe2\\x97\\xbc Nazwy kolumn/wierszy\\n\\n\\xe2\\x97\\xbc dimnames(x) = list(letters[1:4], LETTERS[1:5])\\n\\n\\xe2\\x97\\xbc attributes(x), summary(x)\\n\\n\\xe2\\x97\\xbc \\xc5\\x81\\xc4\\x85czenie macierzy/wektor\\xc3\\xb3w rbind(), cbind()\\n\\n\\xe2\\x97\\xbc x= rbind(1:3, 4:6); y = cbind(1:3, 4:6)\\n\\n\\xe2\\x97\\xbc Indeksowanie\\n\\n\\xe2\\x97\\xbc x[2, 3], x[1:2, 2:3], x[2,], x[,3]\\n\\nAnaliza danych \\xe2\\x80\\x93 podstawy statystyczne, 2019Z\\n\\n13\\n\\n\\x0cWykresy\\n\\n\\xe2\\x97\\xbc Podstawowe funkcje\\n\\n\\xe2\\x97\\xbc x = seq(0, 2*pi, by = 0.01); y = sin(x)\\n\\n\\xe2\\x97\\xbc plot(x, y, type = 'l', xlab = 'opis x', ylab = 'opis y', main = 'tytul')\\n\\n\\xe2\\x97\\xbc plot(y ~ x, type = 'l')\\n\\n\\xe2\\x97\\xbc plot(kolumna_1 ~ kolumna3, nazwa_ramki)\\n\\n\\xe2\\x97\\xbc points(), lines() - kolejne dane/linie na wykresie\\n\\n\\xe2\\x97\\xbc hist(rnorm(1000))\\n\\n\\xe2\\x97\\xbc pie(1:6, labels = LETTERS[1:6])\\n\\n\\xe2\\x97\\xbc Po\\xc5\\xbcyteczne funkcje\\n\\n\\xe2\\x97\\xbc grid() \\n\\n\\xe2\\x97\\xbc legend()\\n\\nAnaliza danych \\xe2\\x80\\x93 podstawy statystyczne, 2019Z\\n\\n14\\n\\n\\x0cProgramowanie w R\\n\\n\\xe2\\x97\\xbc Instrukcja warunkowa\\n\\n\\xe2\\x97\\xbc P\\xc4\\x99tle\\n\\n\\xe2\\x97\\xbc Funkcje\\n\\n\\xe2\\x97\\xbc Skrypty\\n\\nAnaliza danych \\xe2\\x80\\x93 podstawy statystyczne, 2019Z\\n\\n15\\n\\n\\x0cInstrukcja warunkowa\\n\\n\\xe2\\x97\\xbc if(warunek) {wyra\\xc5\\xbcenie} \\n\\n\\xe2\\x97\\xbc x = 3; y = 2\\n\\n\\xe2\\x97\\xbc if(x>y) {\\n\\npaste('x =', x, 'jest wieksze od y =', y) }\\n\\n\\xe2\\x97\\xbc if(warunek) {wyra\\xc5\\xbcenie1} else {wyra\\xc5\\xbcenie2}\\n\\n\\xe2\\x97\\xbc ifelse(warunek, yes, no)\\n\\n\\xe2\\x97\\xbc ifelse(x > y, \\n\\n{ paste('x =', x, 'jest wieksze od y =', y) }, \\n{ paste('x =', x, 'jest mniejsze lub rowne y =', y) } ) \\n\\n\\xe2\\x97\\xbc switch()\\n\\n\\xe2\\x97\\xbc Operatory logiczne:\\n\\n\\xe2\\x97\\xbc &, |, !, xor(x,y), ==, !=, <, >, <=, <=, isTRUE(x), &&, ||.\\n\\nAnaliza danych \\xe2\\x80\\x93 podstawy statystyczne, 2019Z\\n\\n16\\n\\n\\x0cP\\xc4\\x99tle\\n\\n\\xe2\\x97\\xbc for(zmienna in zbi\\xc3\\xb3r_warto\\xc5\\x9bci) {wyra\\xc5\\xbcenie}\\n\\n\\xe2\\x97\\xbc for( k in 1:10) {\\n\\n\\xe2\\x97\\xbc\\n\\n\\xe2\\x97\\xbc\\n\\nprint(k) \\n\\n}\\n\\n\\xe2\\x97\\xbc while(warunek) {wyra\\xc5\\xbcenie}\\n\\n\\xe2\\x97\\xbc repeat {wyra\\xc5\\xbcenie}\\n\\n\\xe2\\x97\\xbc break, next\\n\\n\\xe2\\x97\\xbc with(dane, wyra\\xc5\\xbcenie, \\xe2\\x80\\xa6)\\n\\n\\xe2\\x97\\xbc apply(), replicate()\\n\\nAnaliza danych \\xe2\\x80\\x93 podstawy statystyczne, 2019Z\\n\\n17\\n\\n\\x0cFunkcje\\n\\n\\xe2\\x97\\xbc nazwa_funkcji = function(arg1, arg2, arg3 = warto\\xc5\\x9b\\xc4\\x87) \\n\\n{cia\\xc5\\x82o funkcji}\\n\\n\\xe2\\x97\\xbc Zwracane warto\\xc5\\x9bci - ostatnia linia\\n\\n\\xe2\\x97\\xbc return()\\n\\n\\xe2\\x97\\xbc stop()\\n\\n\\xe2\\x97\\xbc warning()\\n\\nAnaliza danych \\xe2\\x80\\x93 podstawy statystyczne, 2019Z\\n\\n18\\n\\n\\x0cWczytywanie i zapisywanie danych\\n\\n\\xe2\\x97\\xbc Pobieranie z plik\\xc3\\xb3w i zapisywanie:\\n\\n\\xe2\\x97\\xbc dane = scan('c:/plik.txt')\\n\\n\\xe2\\x97\\xbc dane = read.table('plik.txt', header = T)\\n\\n\\xe2\\x97\\xbc dane = read.csv('Zeszyt1.csv', sep = '; ', header = T, dec = \\xe2\\x80\\x99,\\xe2\\x80\\x99)\\n\\n\\xe2\\x97\\xbc write(x, 'plik.txt')\\n\\n\\xe2\\x97\\xbc write.table(dane, file = 'plik.txt'), write.csv()\\n\\n\\xe2\\x97\\xbc Zmiana nazw kolumn, wierszy\\n\\n\\xe2\\x97\\xbc names(dane), colnames(dane), rownames(dane)\\n\\n\\xe2\\x97\\xbc Edycja/zmiana danych\\n\\n\\xe2\\x97\\xbc edit(dane)\\n\\n\\xe2\\x97\\xbc mechanizmy Rstudio.\\n\\nAnaliza danych \\xe2\\x80\\x93 podstawy statystyczne, 2019Z\\n\\n19\\n\\n\\x0cPrzyk\\xc5\\x82ad 1 \\xe2\\x80\\x93 przygotowanie katalogu\\n\\n\\xe2\\x97\\xbc W katalogu domowym utw\\xc3\\xb3rz katalog ADPS/Lab1\\n\\n\\xe2\\x97\\xbc dir.create('~/ADPS')\\n\\n\\xe2\\x97\\xbc dir.create('~/ADPS/Lab1')\\n\\n\\xe2\\x97\\xbc Zmie\\xc5\\x84 katalog roboczy w Rstudio na ADPS/Lab1\\n\\n\\xe2\\x97\\xbc setwd('~/ADPS/Lab1')\\n\\n\\xe2\\x97\\xbc Powy\\xc5\\xbcsze operacje mo\\xc5\\xbcna wykona\\xc4\\x87 korzystaj\\xc4\\x85c \\n\\nz zak\\xc5\\x82adki Files\\n\\n\\xe2\\x97\\xbc New Folder\\n\\n\\xe2\\x97\\xbc More -> Set As Working Directory\\n\\nAnaliza danych \\xe2\\x80\\x93 podstawy statystyczne, 2019Z\\n\\n20\\n\\n\\x0cPrzyk\\xc5\\x82ad 1 \\xe2\\x80\\x93 pobranie danych\\n\\n\\xe2\\x97\\xbc Znajd\\xc5\\xba i pobierz dane historyczne sp\\xc3\\xb3\\xc5\\x82ek gie\\xc5\\x82dowych \\n\\nz portalu www.bossa.pl\\n\\n\\xe2\\x97\\xbc zak\\xc5\\x82adka Notowania & wykresy, dalej Pliki z danymi,\\n\\n\\xe2\\x97\\xbc Wszystkie grupy GPW -> baza danych w formacie tekstowym -\\n\\n> mstall.zip\\n\\n\\xe2\\x97\\xbc Zapisz plik mstall.zip do katalogu ADPS/Lab1.\\n\\n\\xe2\\x97\\xbc Rozpakuj w tym katalogu dane sp\\xc3\\xb3\\xc5\\x82ki LOTOS\\n\\n\\xe2\\x97\\xbc unzip('mstall.zip', 'LOTOS.mst')\\n\\nAnaliza danych \\xe2\\x80\\x93 podstawy statystyczne, 2019Z\\n\\n21\\n\\n\\x0cPrzyk\\xc5\\x82ad 1 \\xe2\\x80\\x93 wczytanie danych\\n\\n\\xe2\\x97\\xbc Wczytaj dane z pliku LOTOS.mst do \\xc5\\x9brodowiska R:\\n\\n\\xe2\\x97\\xbc df_LOTOS = read.csv('LOTOS.mst')\\n\\n\\xe2\\x97\\xbc Obejrzyj dane dotycz\\xc4\\x85ce sp\\xc3\\xb3\\xc5\\x82ki LOTOS, zwr\\xc3\\xb3\\xc4\\x87 uwag\\xc4\\x99 \\n\\nna nazwy kolumn. \\n\\n\\xe2\\x97\\xbc Zmie\\xc5\\x84 nazwy kolumn:\\n\\n\\xe2\\x97\\xbc names(df_LOTOS) = c('ticker', 'date', 'open', 'high', 'low', 'close', \\n\\n'vol')\\n\\nAnaliza danych \\xe2\\x80\\x93 podstawy statystyczne, 2019Z\\n\\n22\\n\\n\\x0cPrzyk\\xc5\\x82ad 1 \\xe2\\x80\\x93 wykres kursu w czasie\\n\\n\\xe2\\x97\\xbc Wykres kursu otwarcia w zale\\xc5\\xbcno\\xc5\\x9bci od daty:\\n\\n\\xe2\\x97\\xbc df_LOTOS$date = as.Date.character(df_LOTOS$date, format = \\n\\n'%Y%m%d')\\n\\nplot(open ~ date, df_LOTOS,\\n\\ntype = 'l', col = 'blue',\\n\\nxlab = 'Data', ylab = 'Kurs otwarcia [z\\xc5\\x82]',\\n\\nmain = 'LOTOS' )\\n\\ngrid()\\n\\nAnaliza danych \\xe2\\x80\\x93 podstawy statystyczne, 2019Z\\n\\n23\\n\\n\\x0cPrzyk\\xc5\\x82ad 1 \\xe2\\x80\\x93 procentowe zmiany kursu\\n\\n\\xe2\\x97\\xbc Wykres procentowych zmian kursu otwarcia:\\n\\n\\xe2\\x97\\xbc df_LOTOS$open_ch= with(df_LOTOS, \\n\\nc(NA, 100*diff(open)/open[1:length(open) -1]))\\n\\nplot(open_ch ~ date, df_LOTOS,\\n\\ntype = 'l', col = 'blue',\\n\\nxlab = 'Data', ylab = 'Procentowa zmiana kursu otwarcia [%]',\\n\\nmain = 'LOTOS' )\\n\\ngrid()\\n\\nAnaliza danych \\xe2\\x80\\x93 podstawy statystyczne, 2019Z\\n\\n24\\n\\n\\x0cPrzyk\\xc5\\x82ad 1 \\xe2\\x80\\x93 histogram\\n\\n\\xe2\\x97\\xbc Histogram procentowych zmian kursu otwarcia:\\n\\n\\xe2\\x97\\xbc hist(df_LOTOS$open_ch,\\n\\nbreaks = 50, prob = T,\\n\\nxlab = 'Zmiana kursu otwarcia [%] ',\\n\\nylab = 'Cz\\xc4\\x99sto\\xc5\\x9b\\xc4\\x87 wyst\\xc4\\x99powania',\\n\\nmain = 'Histogram procentowych zmian kursu LOTOS' )\\n\\ngrid()\\n\\nAnaliza danych \\xe2\\x80\\x93 podstawy statystyczne, 2019Z\\n\\n25\\n\\n\\x0cPrzyk\\xc5\\x82ad 1 \\xe2\\x80\\x93 FGP\\n\\n\\xe2\\x97\\xbc Warto\\xc5\\x9b\\xc4\\x87 \\xc5\\x9brednia oraz odchylenie standardowe zmian \\n\\nkursu otwarcia:\\n\\n\\xe2\\x97\\xbc m = mean(df_LOTOS$open_ch, na.rm = T)\\n\\ns = sd(df_LOTOS$open_ch, na.rm = T)\\n\\n\\xe2\\x97\\xbc Dorysowanie do histogramu wykresu g\\xc4\\x99sto\\xc5\\x9bci rozk\\xc5\\x82adu \\n\\nnormalnego o obliczonych parametrach:\\n\\n\\xe2\\x97\\xbc curve(dnorm(x, mean = m, sd = s), add = T, col = 'red', -10, 10)\\n\\nAnaliza danych \\xe2\\x80\\x93 podstawy statystyczne, 2019Z\\n\\n26\\n\\n\\x0cPrzyk\\xc5\\x82ad 1 \\xe2\\x80\\x93 wykres pude\\xc5\\x82kowy\\n\\n\\xe2\\x97\\xbc Wykres pude\\xc5\\x82kowy procentowych zmian kursu \\n\\notwarcia:\\n\\n\\xe2\\x97\\xbc boxplot(df_LOTOS $open_ch,\\n\\ncol = 'green',\\n\\nxlab = 'LOTOS', ylab = 'Zmiana kursu otwarcia [%] ',\\n\\nmain = 'LOTOS' )\\n\\ngrid()\\n\\nAnaliza danych \\xe2\\x80\\x93 podstawy statystyczne, 2019Z\\n\\n27\\n\\n\\x0cPrzyk\\xc5\\x82ad 2 \\xe2\\x80\\x93 pobranie danych\\n\\n\\xe2\\x97\\xbc Znajduj\\xc4\\x85cy si\\xc4\\x99 na stronie przedmiotu plik:\\n\\nAirplane_Crashes_and_Fatalities_Since_1908.csv\\n\\nzawiera dane historyczne dotycz\\xc4\\x85ce katastrof lotniczych. \\n\\n\\xe2\\x97\\xbc Zapisz plik do katalogu ADPS/Lab1.\\n\\n\\xe2\\x97\\xbc Wczytaj dane do \\xc5\\x9brodowiska R:\\n\\n\\xe2\\x97\\xbc Crashes = \\n\\nread.csv('Airplane_Crashes_and_Fatalities_Since_1908.csv')\\n\\n\\xe2\\x97\\xbc Obejrzyj dane, zwr\\xc3\\xb3\\xc4\\x87 uwag\\xc4\\x99 na puste pola.\\n\\nAnaliza danych \\xe2\\x80\\x93 podstawy statystyczne, 2019Z\\n\\n28\\n\\n\\x0cPrzyk\\xc5\\x82ad 2 \\xe2\\x80\\x93 liczba wypadk\\xc3\\xb3w w latach\\n\\n\\xe2\\x97\\xbc Dodanie do danych kolumny z rokiem:\\n\\n\\xe2\\x97\\xbc Crashes$Year = strftime(as.Date(Crashes$Date, '%m/%d/%Y'), \\n\\n'%Y') \\n\\n\\xe2\\x97\\xbc Wykres liczby wypadk\\xc3\\xb3w w danym roku:\\n\\n\\xe2\\x97\\xbc plot(table(Crashes$Year), \\n\\ntype = 'h', col = 'blue',\\n\\nxlab = 'Rok', ylab = 'Liczba katastrof',\\n\\nmain = 'Liczba katastrof w roku' )\\n\\ngrid()\\n\\nAnaliza danych \\xe2\\x80\\x93 podstawy statystyczne, 2019Z\\n\\n29\\n\\n\\x0cPrzyk\\xc5\\x82ad 2 \\xe2\\x80\\x93 liczba ofiar w latach\\n\\n\\xe2\\x97\\xbc Agregacja danych po latach:\\n\\n\\xe2\\x97\\xbc Ofiary_agr = aggregate(Fatalities ~ Year, Crashes, FUN = sum)\\n\\n\\xe2\\x97\\xbc Wykres:\\n\\n\\xe2\\x97\\xbc plot(Ofiary_agr,\\n\\ntype = 'h', col = 'blue',\\n\\nxlab = 'Rok', ylab = 'Lczba ofiar',\\n\\nmain = 'Liczba ofiar katastrof w roku' )\\n\\ngrid()\\n\\nAnaliza danych \\xe2\\x80\\x93 podstawy statystyczne, 2019Z\\n\\n30\\n\\n\\x0cGenerowanie liczb losowych\\n\\n\\xe2\\x97\\xbc Funkcje dot. rozk\\xc5\\x82ad\\xc3\\xb3w, przedrostki: d, p, q, r:\\n\\n\\xe2\\x97\\xbc drozkl() \\xe2\\x80\\x93 funkcja g\\xc4\\x99sto\\xc5\\x9bci prawdop. dla rozk\\xc5\\x82adu rozkl,\\n\\n\\xe2\\x97\\xbc prozkl () \\xe2\\x80\\x93 dystrybuanta,\\n\\n\\xe2\\x97\\xbc qrozkl () \\xe2\\x80\\x93 kwantyl / dystrybuanta odwrotna,\\n\\n\\xe2\\x97\\xbc rrozkl () \\xe2\\x80\\x93 generator liczb pseudolosowych,\\n\\n\\xe2\\x97\\xbc rozkl = np. binom, pois, geom, unif, norm, exp, chisq, t, beta, \\n\\ngamma,\\xe2\\x80\\xa6.\\n\\n\\xe2\\x97\\xbc Podstawowe wska\\xc5\\xbaniki:\\n\\n\\xe2\\x97\\xbc mean(), sd(), var(), median(), quantile()\\n\\n\\xe2\\x97\\xbc Empiryczna dystrybuanta: ecdf()\\n\\n\\xe2\\x97\\xbc Losowanie ze zbioru - sample()\\n\\n\\xe2\\x97\\xbc sample(1:6, 20, replace = T)\\n\\nAnaliza danych \\xe2\\x80\\x93 podstawy statystyczne, 2019Z\\n\\n31\\n\\n\\x0cPrzyk\\xc5\\x82ad 3\\n\\n\\xe2\\x97\\xbc Generacja 1000 pr\\xc3\\xb3bek z rozk\\xc5\\x82adu normalnego N(2,9):\\n\\n\\xe2\\x97\\xbc proba = rnorm(1000, mean = 2, sd = 3)\\n\\n\\xe2\\x97\\xbc Warto\\xc5\\x9bci parametr\\xc3\\xb3w z pr\\xc3\\xb3by\\n\\n\\xe2\\x97\\xbc m = mean(proba)\\n\\n\\xe2\\x97\\xbc s = sd(proba)\\n\\n\\xe2\\x97\\xbc Histogram i g\\xc4\\x99sto\\xc5\\x9b\\xc4\\x87 prawdopodobie\\xc5\\x84stwa:\\n\\n\\xe2\\x97\\xbc hist(proba, breaks = 30, prob = T)\\n\\ncurve(dnorm(x, mean = 2, sd = 3), add = T, col = 'red', -15, 15)\\n\\ngrid()\\n\\nAnaliza danych \\xe2\\x80\\x93 podstawy statystyczne, 2019Z\\n\\n32\\n\\n\\x0cPrzyk\\xc5\\x82ad 3\\n\\n\\xe2\\x97\\xbc Dystrybuanta empiryczna i teoretyczna:\\n\\n\\xe2\\x97\\xbc plot(ecdf(proba))\\n\\n\\xe2\\x97\\xbc curve(pnorm(x, mean = 2, sd = 3), add = T, col = 'red', -15, 15)\\n\\n\\xe2\\x97\\xbc Wykres pude\\xc5\\x82kowy:\\n\\n\\xe2\\x97\\xbc boxplot(proba)\\n\\ngrid()\\n\\n\\xe2\\x97\\xbc Teoretyczne i empiryczne warto\\xc5\\x9bci kwantyli dla 0.25, \\n\\n0.5 i 0.75:\\n\\n\\xe2\\x97\\xbc qnorm(c(0.25, 0.5, 0.75), mean = 2, sd = 3)\\n\\nquantile(proba, c(0.25, 0.5, 0.75))\\n\\nAnaliza danych \\xe2\\x80\\x93 podstawy statystyczne, 2019Z\\n\\n33\\n\\n\\x0cPrzyk\\xc5\\x82ad 4\\n\\n\\xe2\\x97\\xbc Generacja 1000 pr\\xc3\\xb3bek z rozk\\xc5\\x82adu Poissona Pois(4):\\n\\n\\xe2\\x97\\xbc M = 1000\\n\\n\\xe2\\x97\\xbc proba = rpois(M, lambda = 4)\\n\\n\\xe2\\x97\\xbc Warto\\xc5\\x9bci parametr\\xc3\\xb3w z pr\\xc3\\xb3by:\\n\\n\\xe2\\x97\\xbc m = mean(proba)\\n\\n\\xe2\\x97\\xbc v = var(proba)\\n\\n\\xe2\\x97\\xbc Wykres pr\\xc3\\xb3bek:\\n\\n\\xe2\\x97\\xbc plot(proba,\\n\\nxlab = 'Numer pr\\xc3\\xb3bki',\\n\\nylab = 'Warto\\xc5\\x9b\\xc4\\x87 pr\\xc3\\xb3bki',\\n\\nmain = 'Warto\\xc5\\x9bci wygenerowanych pr\\xc3\\xb3bek')\\n\\nAnaliza danych \\xe2\\x80\\x93 podstawy statystyczne, 2019Z\\n\\n34\\n\\n\\x0cPrzyk\\xc5\\x82ad 4\\n\\n\\xe2\\x97\\xbc Empiryczna funkcja prawdopodobie\\xc5\\x84stwa:\\n\\n\\xe2\\x97\\xbc Arg = 0:max(proba)\\n\\n\\xe2\\x97\\xbc Freq = as.numeric(table(factor(proba, levels = Arg))) / M\\n\\n\\xe2\\x97\\xbc plot(Freq ~ Arg,\\n\\ntype = 'h', col = 'blue',\\n\\nxlab = 'x', ylab = 'f(x)',\\n\\nmain = paste0('Funkcja prawdopodobie\\xc5\\x84stwa dla M =    ', M))\\n\\ngrid()\\n\\n\\xe2\\x97\\xbc Dodanie k\\xc3\\xb3\\xc5\\x82ek:\\n\\n\\xe2\\x97\\xbc points(Freq ~ Arg, col = 'blue')\\n\\nAnaliza danych \\xe2\\x80\\x93 podstawy statystyczne, 2019Z\\n\\n35\\n\\n\\x0cPrzyk\\xc5\\x82ad 4\\n\\n\\xe2\\x97\\xbc Teoretyczna funkcja prawdopodobie\\xc5\\x84stwa:\\n\\n\\xe2\\x97\\xbc lines(dpois(Arg, lambda = 4) ~ Arg,\\n\\ntype = 'h', col = 'red',\\n\\nxlab = 'x', ylab = 'f(x)')\\n\\n\\xe2\\x97\\xbc points(dpois(Arg, lambda = 4) ~ Arg, col = 'red')\\n\\nAnaliza danych \\xe2\\x80\\x93 podstawy statystyczne, 2019Z\\n\\n36\\n\\n\\x0cPrzyk\\xc5\\x82ad 4\\n\\n\\xe2\\x97\\xbc Dystrybuanta empiryczna:\\n\\n\\xe2\\x97\\xbc plot(cumsum(Freq) ~ Arg,\\n\\ntype = 's', col = 'blue',\\n\\nxlab = 'x', ylab = 'F(x)',\\n\\nmain = paste0('Dystrybuanta dla M = ', M))\\n\\ngrid()\\n\\npoints(cumsum(Freq) ~ Arg, col = 'blue')\\n\\nAnaliza danych \\xe2\\x80\\x93 podstawy statystyczne, 2019Z\\n\\n37\\n\\n\\x0cPrzyk\\xc5\\x82ad 4\\n\\n\\xe2\\x97\\xbc Dystrybuanta teoretyczna:\\n\\n\\xe2\\x97\\xbc lines(ppois(Arg, lambda = 4) ~ Arg,\\n\\ntype = 's', col = 'red',\\n\\nxlab = 'x', ylab = 'F(x)')\\n\\n\\xe2\\x97\\xbc points(ppois(Arg, lambda = 4) ~ Arg, col = 'red')\\n\\n\\xe2\\x97\\xbc Dystrybuanta empiryczna (ecdf)\\n\\n\\xe2\\x97\\xbc plot(ecdf(proba)) \\n\\nAnaliza danych \\xe2\\x80\\x93 podstawy statystyczne, 2019Z\\n\\n38\\n\\n\\x0cZadanie 1\\n\\n\\xe2\\x97\\xbc Dla wybranych dw\\xc3\\xb3ch sp\\xc3\\xb3\\xc5\\x82ek \\n\\n\\xe2\\x97\\xbc sporz\\xc4\\x85d\\xc5\\xba wykresy procentowych zmian kurs\\xc3\\xb3w zamkni\\xc4\\x99cia \\n\\nw zale\\xc5\\xbcno\\xc5\\x9bci od daty,\\n\\n\\xe2\\x97\\xbc wykre\\xc5\\x9bl i por\\xc3\\xb3wnaj histogramy procentowych zmian kurs\\xc3\\xb3w \\n\\nzamkni\\xc4\\x99cia,\\n\\n\\xe2\\x97\\xbc wykonaj jeden wsp\\xc3\\xb3lny rysunek z wykresami pude\\xc5\\x82kowymi \\n\\nzmian kurs\\xc3\\xb3w zamkni\\xc4\\x99cia.\\n\\nAnaliza danych \\xe2\\x80\\x93 podstawy statystyczne, 2019Z\\n\\n39\\n\\n\\x0cZadanie 2\\n\\n\\xe2\\x97\\xbc Sporz\\xc4\\x85d\\xc5\\xba wykres liczby katastrof lotniczych \\n\\nw poszczeg\\xc3\\xb3lnych:\\n\\n\\xe2\\x97\\xbc miesi\\xc4\\x85cach,\\n\\n\\xe2\\x97\\xbc dniach,\\n\\n\\xe2\\x97\\xbc dniach tygodnia (weekdays()).\\n\\n\\xe2\\x97\\xbc Narysuj jak w kolejnych latach zmienia\\xc5\\x82y si\\xc4\\x99:\\n\\n\\xe2\\x97\\xbc liczba os\\xc3\\xb3b, kt\\xc3\\xb3re prze\\xc5\\xbcy\\xc5\\x82y katastrofy,\\n\\n\\xe2\\x97\\xbc odsetek os\\xc3\\xb3b (w procentach), kt\\xc3\\xb3re prze\\xc5\\xbcy\\xc5\\x82y katastrofy.\\n\\nAnaliza danych \\xe2\\x80\\x93 podstawy statystyczne, 2019Z\\n\\n40\\n\\n\\x0cZadanie 3\\n\\n\\xe2\\x97\\xbc Dla dw\\xc3\\xb3ch r\\xc3\\xb3\\xc5\\xbcnych zestaw\\xc3\\xb3w parametr\\xc3\\xb3w rozk\\xc5\\x82adu \\n\\ndwumianowego (rbinom): \\n\\xe2\\x97\\xbc Binom(20, 0.2) \\n\\n\\xe2\\x97\\xbc Binom(20, 0.8)\\n\\nwygeneruj pr\\xc3\\xb3by losowe sk\\xc5\\x82adaj\\xc4\\x85ce si\\xc4\\x99 z M = 1000 pr\\xc3\\xb3bek \\ni narysuj warto\\xc5\\x9bci wygenerowanych danych.\\n\\n\\xe2\\x97\\xbc Dla poszczeg\\xc3\\xb3lnych rozk\\xc5\\x82ad\\xc3\\xb3w (zestaw\\xc3\\xb3w parametr\\xc3\\xb3w) \\n\\nnarysuj na jednym wykresie empiryczne i teoretyczne \\n(dbinom) funkcje prawdopodobie\\xc5\\x84stwa i dystrybuanty. \\nW obu przypadkach wyskaluj o\\xc5\\x9b odci\\xc4\\x99tych od 0 do 20\\n\\nAnaliza danych \\xe2\\x80\\x93 podstawy statystyczne, 2019Z\\n\\n41\\n\\n\\x0cZadanie 4\\n\\n\\xe2\\x97\\xbc Dla rozk\\xc5\\x82adu dwumianowego Binom(20, 0.8) wygeneruj \\n\\ntrzy pr\\xc3\\xb3by losowe sk\\xc5\\x82adaj\\xc4\\x85ce si\\xc4\\x99 z M = 100, 1000 i 10000 \\npr\\xc3\\xb3bek. \\n\\n\\xe2\\x97\\xbc Dla poszczeg\\xc3\\xb3lnych pr\\xc3\\xb3b wykre\\xc5\\x9bl empiryczne \\n\\ni teoretyczne funkcje prawdopodobie\\xc5\\x84stwa i dystrybuanty. \\n\\n\\xe2\\x97\\xbc We wszystkich przypadkach oblicz empiryczne warto\\xc5\\x9bci \\n\\n\\xc5\\x9brednie i wariancje. Por\\xc3\\xb3wnaj je z warto\\xc5\\x9bciami \\nteoretycznymi dla rozk\\xc5\\x82adu Binom(20, 0.8).\\n\\nAnaliza danych \\xe2\\x80\\x93 podstawy statystyczne, 2019Z\\n\\n42\\n\\n\\x0cZadanie 5\\n\\n\\xe2\\x97\\xbc Wygeneruj K = 500 realizacji (powt\\xc3\\xb3rze\\xc5\\x84) pr\\xc3\\xb3b losowych \\n\\nsk\\xc5\\x82adaj\\xc4\\x85cych si\\xc4\\x99 z M = 100 pr\\xc3\\xb3bek pochodz\\xc4\\x85cych \\nz rozk\\xc5\\x82adu Binom(20, 0.8).\\n\\nDla wszystkich realizacji oblicz warto\\xc5\\x9bci \\xc5\\x9brednie \\ni wariancje. Nast\\xc4\\x99pnie narysuj histogramy warto\\xc5\\x9bci \\n\\xc5\\x9brednich i wariancji. \\n\\n\\xe2\\x97\\xbc Powt\\xc3\\xb3rz eksperymenty dla M = 1000 i M = 10000. \\n\\nJak zmieniaj\\xc4\\x85 si\\xc4\\x99 histogramy ze zmian\\xc4\\x85 liczby pr\\xc3\\xb3bek?\\n\\nWskaz\\xc3\\xb3wka:\\n\\nmm = replicate(500, mean(rbinom(M, 20, 0.8)))\\n\\nAnaliza danych \\xe2\\x80\\x93 podstawy statystyczne, 2019Z\\n\\n43\\n\\n\\x0cDzi\\xc4\\x99kuj\\xc4\\x99 za uwag\\xc4\\x99!\\n\\nPytania ?\\n\\n\\x0c\""
            ]
          },
          "metadata": {
            "tags": []
          },
          "execution_count": 18
        }
      ]
    },
    {
      "cell_type": "code",
      "metadata": {
        "id": "Nfdq-QVz2j8b"
      },
      "source": [
        "mypdf = textract.process('c1.pdf')"
      ],
      "execution_count": 19,
      "outputs": []
    },
    {
      "cell_type": "code",
      "metadata": {
        "colab": {
          "base_uri": "https://localhost:8080/"
        },
        "id": "ZKiKiQmO2j3x",
        "outputId": "314c0b82-0343-41c2-cb6d-cde82708e776"
      },
      "source": [
        "mypdf"
      ],
      "execution_count": 20,
      "outputs": [
        {
          "output_type": "execute_result",
          "data": {
            "text/plain": [
              "b'\\x0c'"
            ]
          },
          "metadata": {
            "tags": []
          },
          "execution_count": 20
        }
      ]
    },
    {
      "cell_type": "code",
      "metadata": {
        "id": "HsRlHvy42jzj"
      },
      "source": [
        ""
      ],
      "execution_count": null,
      "outputs": []
    }
  ]
}